{
  "metadata": {
    "language_info": {
      "codemirror_mode": {
        "name": "python",
        "version": 3
      },
      "file_extension": ".py",
      "mimetype": "text/x-python",
      "name": "python",
      "nbconvert_exporter": "python",
      "pygments_lexer": "ipython3",
      "version": "3.8"
    },
    "kernelspec": {
      "name": "python",
      "display_name": "Python (Pyodide)",
      "language": "python"
    }
  },
  "nbformat_minor": 4,
  "nbformat": 4,
  "cells": [
    {
      "cell_type": "markdown",
      "source": "# \"My Jupyter Notebook On IBM Watson Studio\"",
      "metadata": {}
    },
    {
      "cell_type": "markdown",
      "source": "**Simarjot Kaur**\n\n**I want to become a data scientist.**",
      "metadata": {}
    },
    {
      "cell_type": "markdown",
      "source": "*I am interested in data science as I want to be a data scientist in the field of banking and finance. With the help of data science , the firms are able to connect with the customers by knowing their choices, which can lead to increase  in their sales and hence increase their profit margin.*",
      "metadata": {}
    },
    {
      "cell_type": "code",
      "source": "### Subtract 16 from 24",
      "metadata": {},
      "execution_count": null,
      "outputs": []
    },
    {
      "cell_type": "code",
      "source": "24-16",
      "metadata": {
        "trusted": true
      },
      "execution_count": 2,
      "outputs": [
        {
          "execution_count": 2,
          "output_type": "execute_result",
          "data": {
            "text/plain": "8"
          },
          "metadata": {}
        }
      ]
    },
    {
      "cell_type": "markdown",
      "source": "|Serial no.|Names|Age|Designation|Job Address|Locations|\n||-----|----|----|---|---|\n|Anil|30|HR|Tanager Square|~~Brampton~~|\n|Pooja|25|Teacher|Violet street|~~Waterloo~~|\n|Gurjinder|29|Driver|Dufferin Street|~~Toronto~~|\n|Manpreet|26|Machinist|Conestoga Drive|~~Brampton~~|",
      "metadata": {}
    }
  ]
}